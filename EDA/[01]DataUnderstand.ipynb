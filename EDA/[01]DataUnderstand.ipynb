{
 "cells": [
  {
   "cell_type": "code",
   "execution_count": null,
   "id": "ea25f45b",
   "metadata": {},
   "outputs": [],
   "source": [
    "import pandas as pd\n",
    "import numpy as np\n",
    "df=pd.read_csv('train.csv')"
   ]
  },
  {
   "cell_type": "markdown",
   "id": "970bd6c3",
   "metadata": {},
   "source": [
    "how big Data is?"
   ]
  },
  {
   "cell_type": "code",
   "execution_count": 7,
   "id": "f012cb1b",
   "metadata": {},
   "outputs": [
    {
     "data": {
      "text/plain": [
       "(891, 12)"
      ]
     },
     "execution_count": 7,
     "metadata": {},
     "output_type": "execute_result"
    }
   ],
   "source": [
    "df.shape"
   ]
  },
  {
   "cell_type": "markdown",
   "id": "0d01cede",
   "metadata": {},
   "source": [
    "how Data looks like? and TYPE of data"
   ]
  },
  {
   "cell_type": "code",
   "execution_count": null,
   "id": "0b7d60b3",
   "metadata": {},
   "outputs": [],
   "source": [
    "df.head(2)\n",
    "df.info()\n"
   ]
  },
  {
   "cell_type": "markdown",
   "id": "ffc1c32b",
   "metadata": {},
   "source": [
    "Are there any missing values?"
   ]
  },
  {
   "cell_type": "code",
   "execution_count": 13,
   "id": "4c1055e3",
   "metadata": {},
   "outputs": [
    {
     "data": {
      "text/plain": [
       "PassengerId      0\n",
       "Survived         0\n",
       "Pclass           0\n",
       "Name             0\n",
       "Sex              0\n",
       "Age            177\n",
       "SibSp            0\n",
       "Parch            0\n",
       "Ticket           0\n",
       "Fare             0\n",
       "Cabin          687\n",
       "Embarked         2\n",
       "dtype: int64"
      ]
     },
     "execution_count": 13,
     "metadata": {},
     "output_type": "execute_result"
    }
   ],
   "source": [
    "df.isnull().sum()"
   ]
  },
  {
   "cell_type": "code",
   "execution_count": null,
   "id": "939e1dd3",
   "metadata": {},
   "outputs": [],
   "source": [
    "df.describe()\n",
    "#Mathematical view of data"
   ]
  },
  {
   "cell_type": "markdown",
   "id": "718ab40f",
   "metadata": {},
   "source": [
    "Check duplicate values"
   ]
  },
  {
   "cell_type": "code",
   "execution_count": 17,
   "id": "3ffa156a",
   "metadata": {},
   "outputs": [
    {
     "data": {
      "text/plain": [
       "np.int64(0)"
      ]
     },
     "execution_count": 17,
     "metadata": {},
     "output_type": "execute_result"
    }
   ],
   "source": [
    "df.duplicated().sum()"
   ]
  },
  {
   "cell_type": "markdown",
   "id": "b04ca4c7",
   "metadata": {},
   "source": [
    "COrelation between cols"
   ]
  },
  {
   "cell_type": "code",
   "execution_count": 20,
   "id": "d8ea62d7",
   "metadata": {},
   "outputs": [
    {
     "data": {
      "text/plain": [
       "PassengerId   -0.035144\n",
       "Survived      -0.338481\n",
       "Pclass         1.000000\n",
       "Age           -0.369226\n",
       "SibSp          0.083081\n",
       "Parch          0.018443\n",
       "Fare          -0.549500\n",
       "Name: Pclass, dtype: float64"
      ]
     },
     "execution_count": 20,
     "metadata": {},
     "output_type": "execute_result"
    }
   ],
   "source": [
    "df.corr(numeric_only=True)['Pclass']"
   ]
  },
  {
   "cell_type": "markdown",
   "id": "5a595bbd",
   "metadata": {},
   "source": [
    "knowing all the columns of data"
   ]
  },
  {
   "cell_type": "code",
   "execution_count": 5,
   "id": "afdd3f61",
   "metadata": {},
   "outputs": [
    {
     "data": {
      "text/plain": [
       "Index(['PassengerId', 'Survived', 'Pclass', 'Name', 'Sex', 'Age', 'SibSp',\n",
       "       'Parch', 'Ticket', 'Fare', 'Cabin', 'Embarked'],\n",
       "      dtype='object')"
      ]
     },
     "execution_count": 5,
     "metadata": {},
     "output_type": "execute_result"
    }
   ],
   "source": [
    "import pandas as pd\n",
    "df=pd.read_csv('train.csv')\n",
    "df.columns"
   ]
  }
 ],
 "metadata": {
  "kernelspec": {
   "display_name": "Python 3",
   "language": "python",
   "name": "python3"
  },
  "language_info": {
   "codemirror_mode": {
    "name": "ipython",
    "version": 3
   },
   "file_extension": ".py",
   "mimetype": "text/x-python",
   "name": "python",
   "nbconvert_exporter": "python",
   "pygments_lexer": "ipython3",
   "version": "3.9.2"
  }
 },
 "nbformat": 4,
 "nbformat_minor": 5
}
